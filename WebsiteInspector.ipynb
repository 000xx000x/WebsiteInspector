{
  "cells": [
    {
      "cell_type": "code",
      "source": [
        "import requests\n",
        "import re\n",
        "\n",
        "class WebsiteInfo:\n",
        "    def __init__(self, url):\n",
        "        self.url = url\n",
        "        self.session = requests.Session()\n",
        "        self.session.headers.update({'User-Agent': 'Mozilla/5.0'})\n",
        "\n",
        "    def get_info(self):\n",
        "        try:\n",
        "            response = self.session.get(self.url, timeout=5)\n",
        "            response.raise_for_status()\n",
        "\n",
        "            defenders = self._get_security_headers(response)\n",
        "            server = response.headers.get(\"Server\", \"Unknown\")\n",
        "            os = self._get_os_info(response.text)\n",
        "\n",
        "            return defenders, server, os\n",
        "\n",
        "        except requests.exceptions.RequestException as e:\n",
        "            print(f\"Error: {e}\")\n",
        "            return {}, \"Unknown\", \"Unknown\"\n",
        "\n",
        "    def _get_security_headers(self, response):\n",
        "        security_headers = {\n",
        "            \"Strict-Transport-Security\": \"HSTS\",\n",
        "            \"X-Frame-Options\": \"Clickjacking Protection\",\n",
        "            \"X-XSS-Protection\": \"XSS Protection\",\n",
        "            \"Content-Security-Policy\": \"CSP\",\n",
        "            \"X-Content-Type-Options\": \"MIME Sniffing Protection\",\n",
        "            \"Referrer-Policy\": \"Referrer Policy\",\n",
        "            \"Feature-Policy\": \"Feature Policy\",\n",
        "            \"Expect-CT\": \"Certificate Transparency\"\n",
        "        }\n",
        "        return {header: response.headers.get(header) for header in security_headers}\n",
        "\n",
        "    def _get_os_info(self, text):\n",
        "        os_match = re.search(r\"(Windows|Linux|macOS|Android|iOS)\", text)\n",
        "        return os_match.group(1) if os_match else \"Unknown\"\n",
        "\n",
        "\n",
        "if __name__ == \"__main__\":\n",
        "    website_link = input(\"Enter the website link: \")\n",
        "    website_info = WebsiteInfo(website_link)\n",
        "    defenders, server, os = website_info.get_info()\n",
        "\n",
        "    print(\"\\nDefenders:\")\n",
        "    for header, value in defenders.items():\n",
        "        print(f\"- {header}: {value}\")\n",
        "\n",
        "    print(f\"\\nServer: {server}\")\n",
        "    print(f\"OS: {os}\")\n"
      ],
      "metadata": {
        "id": "Pf90yFYjCr9e",
        "outputId": "4d75ecec-bea4-4fbe-fb35-e48df5c9ccef",
        "colab": {
          "base_uri": "https://localhost:8080/"
        }
      },
      "execution_count": 8,
      "outputs": [
        {
          "output_type": "stream",
          "name": "stdout",
          "text": [
            "Enter the website link: https://udyogabindu.com/\n",
            "\n",
            "Defenders:\n",
            "- Strict-Transport-Security: None\n",
            "- X-Frame-Options: None\n",
            "- X-XSS-Protection: None\n",
            "- Content-Security-Policy: None\n",
            "- X-Content-Type-Options: None\n",
            "- Referrer-Policy: None\n",
            "- Feature-Policy: None\n",
            "- Expect-CT: None\n",
            "\n",
            "Server: LiteSpeed\n",
            "OS: iOS\n"
          ]
        }
      ]
    }
  ],
  "metadata": {
    "colab": {
      "name": "Welcome To Colaboratory",
      "toc_visible": true,
      "provenance": []
    },
    "kernelspec": {
      "display_name": "Python 3",
      "name": "python3"
    }
  },
  "nbformat": 4,
  "nbformat_minor": 0
}